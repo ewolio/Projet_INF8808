{
 "cells": [
  {
   "cell_type": "markdown",
   "metadata": {},
   "source": [
    "# Prétraitement des données"
   ]
  },
  {
   "cell_type": "markdown",
   "metadata": {},
   "source": [
    "### Import"
   ]
  },
  {
   "cell_type": "code",
   "execution_count": 1,
   "metadata": {
    "collapsed": true
   },
   "outputs": [],
   "source": [
    "import pandas as P\n",
    "from collections import defaultdict"
   ]
  },
  {
   "cell_type": "markdown",
   "metadata": {},
   "source": [
    "### Chargement des données"
   ]
  },
  {
   "cell_type": "code",
   "execution_count": 2,
   "metadata": {
    "collapsed": true
   },
   "outputs": [],
   "source": [
    "PATH = '' # PATH = '.../data/raw/'\n",
    "road_incident = P.read_csv(PATH+'roadIncident_raw.csv')\n",
    "population = P.read_excel(PATH+'population.xlsx')\n",
    "pib = P.read_excel(PATH+'pib.xlsx')"
   ]
  },
  {
   "cell_type": "markdown",
   "metadata": {},
   "source": [
    "#### Road Incident"
   ]
  },
  {
   "cell_type": "markdown",
   "metadata": {},
   "source": [
    "Renommer les colonnes"
   ]
  },
  {
   "cell_type": "code",
   "execution_count": 3,
   "metadata": {
    "collapsed": true
   },
   "outputs": [],
   "source": [
    "def rename_columns(c):\n",
    "    try: \n",
    "        return {\n",
    "            'name': 'pays',\n",
    "            'ratedall': 'all',\n",
    "            'rated_0_14': '00-14',\n",
    "            'rated_15_29': '15-29',\n",
    "            'rated_30_44': '30-44',\n",
    "            'rated_45_59': '45-59',\n",
    "            'rated_60+': '60+'\n",
    "        }[c]\n",
    "    except:\n",
    "        return c\n",
    "\n",
    "del road_incident['country']\n",
    "road_incident.columns = [rename_columns(c) for c in road_incident.columns]"
   ]
  },
  {
   "cell_type": "markdown",
   "metadata": {},
   "source": [
    "#### Population"
   ]
  },
  {
   "cell_type": "markdown",
   "metadata": {},
   "source": [
    " Renommer les colonnes\n"
   ]
  },
  {
   "cell_type": "code",
   "execution_count": 4,
   "metadata": {},
   "outputs": [
    {
     "ename": "NameError",
     "evalue": "name 'Tous' is not defined",
     "output_type": "error",
     "traceback": [
      "\u001b[0;31m---------------------------------------------------------------------------\u001b[0m",
      "\u001b[0;31mNameError\u001b[0m                                 Traceback (most recent call last)",
      "\u001b[0;32m<ipython-input-4-7db216d5e58a>\u001b[0m in \u001b[0;36m<module>\u001b[0;34m()\u001b[0m\n\u001b[0;32m----> 1\u001b[0;31m \u001b[0mTous\u001b[0m\u001b[0;34m\u001b[0m\u001b[0m\n\u001b[0m",
      "\u001b[0;31mNameError\u001b[0m: name 'Tous' is not defined"
     ]
    }
   ],
   "source": [
    "Tous"
   ]
  },
  {
   "cell_type": "markdown",
   "metadata": {},
   "source": [
    "Suppression des colonnes inutiles"
   ]
  },
  {
   "cell_type": "code",
   "execution_count": null,
   "metadata": {
    "collapsed": true
   },
   "outputs": [],
   "source": [
    "del population['série Code']\n",
    "\n",
    "annees = range(1970, 2009)\n"
   ]
  },
  {
   "cell_type": "markdown",
   "metadata": {},
   "source": [
    "#### PIB"
   ]
  },
  {
   "cell_type": "markdown",
   "metadata": {},
   "source": [
    " Renommer les colonnes\n"
   ]
  },
  {
   "cell_type": "code",
   "execution_count": null,
   "metadata": {
    "collapsed": true
   },
   "outputs": [],
   "source": [
    "def rename_columns(c):\n",
    "    if c.startswith('1') or c.startswith('2'):\n",
    "        return c[:4]\n",
    "    try: \n",
    "        return {\n",
    "            'Country Name': 'pays',\n",
    "            'Country Code': 'code'\n",
    "        }[c]\n",
    "    except:\n",
    "        return c\n",
    "\n",
    "pib.columns = [rename_columns(c) for c in pib.columns]"
   ]
  },
  {
   "cell_type": "markdown",
   "metadata": {},
   "source": [
    "Suppression des colonnes inutiles"
   ]
  },
  {
   "cell_type": "code",
   "execution_count": null,
   "metadata": {
    "collapsed": true
   },
   "outputs": [],
   "source": [
    "del pib['Series Code']\n",
    "del pib['Series Name']"
   ]
  },
  {
   "cell_type": "code",
   "execution_count": null,
   "metadata": {},
   "outputs": [],
   "source": [
    "pib"
   ]
  },
  {
   "cell_type": "markdown",
   "metadata": {},
   "source": [
    "### Preprocess"
   ]
  },
  {
   "cell_type": "markdown",
   "metadata": {},
   "source": [
    "#### Road Incident"
   ]
  },
  {
   "cell_type": "markdown",
   "metadata": {},
   "source": [
    "Déplacement de l'attribut sex de ligne vers colonnes"
   ]
  },
  {
   "cell_type": "code",
   "execution_count": null,
   "metadata": {
    "collapsed": true
   },
   "outputs": [],
   "source": [
    "country_incident = {'SUM':{}}\n",
    "incident_columns = ['all', '00-14', '15-29', '30-44', '45-59', '60+', 'M', 'M 00-14', 'M 15-29', 'M 30-44', 'M 45-59', 'M 60+', 'F', 'F 00-14', 'F 15-29', 'F 30-44', 'F 45-59', 'F 60+']\n",
    "\n",
    "for i, p in road_incident.iterrows():\n",
    "    pays ={\n",
    "     'Germany, Former Democratic Republic': 'Germany',\n",
    "     'Germany, Former Federal Republic': 'Germany',\n",
    "     'USSR, Former': 'Russia',\n",
    "     'Russian Federation': 'Russia',\n",
    "     'Republic of Moldova': 'Moldova',\n",
    "     'Republic of Korea': 'South Korea',\n",
    "     'United kingdom': 'United Kingdom',\n",
    "     'Venezuela (Bolivarian Republic of)': 'Venezuela',\n",
    "    }.get(p['pays'], p['pays'])\n",
    "    if pays not in country_incident:\n",
    "        country_incident[pays] = {}\n",
    "    \n",
    "    def store(country_name):\n",
    "        c = country_incident[country_name]\n",
    "        if p['year'] not in c:\n",
    "            c[p['year']] = {_: 0 for _ in incident_columns}\n",
    "        c = c[p['year']]\n",
    "        if p['sex'] == 0:\n",
    "            c['all'] += p['all']\n",
    "            c['00-14'] += p['00-14']\n",
    "            c['15-29'] += p['15-29']\n",
    "            c['30-44'] += p['30-44']\n",
    "            c['45-59'] += p['45-59']\n",
    "            c['60+'] += p['60+']\n",
    "        elif p['sex'] == 1:\n",
    "            c['M'] += p['all']\n",
    "            c['M 00-14'] += p['00-14']\n",
    "            c['M 15-29'] += p['15-29']\n",
    "            c['M 30-44'] += p['30-44']\n",
    "            c['M 45-59'] += p['45-59']\n",
    "            c['M 60+'] += p['60+']\n",
    "        elif p['sex'] == 2:\n",
    "            c['F'] += p['all']\n",
    "            c['F 00-14'] += p['00-14']\n",
    "            c['F 15-29'] += p['15-29']\n",
    "            c['F 30-44'] += p['30-44']\n",
    "            c['F 45-59'] += p['45-59']\n",
    "            c['F 60+'] += p['60+']\n",
    "    \n",
    "    store(pays)\n",
    "    store('SUM')"
   ]
  },
  {
   "cell_type": "code",
   "execution_count": null,
   "metadata": {
    "collapsed": true
   },
   "outputs": [],
   "source": []
  },
  {
   "cell_type": "code",
   "execution_count": null,
   "metadata": {
    "collapsed": true
   },
   "outputs": [],
   "source": [
    "def generate_data():\n",
    "    for pays, pays_d in country_incident.items():\n",
    "        for annee in annees:\n",
    "            if annee in pays_d:\n",
    "                yield (pays, annee) + tuple(pays_d[annee][c] for c in incident_columns)\n",
    "            else:\n",
    "                yield (pays, annee) + (float('nan'),)*len(incident_columns)\n",
    "\n",
    "incident_df = P.DataFrame(data=list(generate_data()), columns=['pays', 'annee']+incident_columns)"
   ]
  },
  {
   "cell_type": "code",
   "execution_count": null,
   "metadata": {
    "collapsed": true
   },
   "outputs": [],
   "source": [
    "incident_df.sort_values(by=['pays', 'annee'], inplace=True)"
   ]
  },
  {
   "cell_type": "markdown",
   "metadata": {},
   "source": [
    "#### Population"
   ]
  },
  {
   "cell_type": "markdown",
   "metadata": {},
   "source": [
    "Extraction de chaque pays (les noms des colonnes sont simplifiés)"
   ]
  },
  {
   "cell_type": "code",
   "execution_count": null,
   "metadata": {
    "collapsed": true
   },
   "outputs": [],
   "source": [
    "country_population = {}\n",
    "country_code = {}\n",
    "\n",
    "for i, p in population.iterrows():\n",
    "    pays ={\n",
    "        'Egypt, Arab Rep.': 'Egypt',\n",
    "        'Kyrgyz Republic': 'Kyrgyzstan',\n",
    "        'Korea, Rep.': 'South Korea',\n",
    "        'Slovak Republic': 'Slovakia',\n",
    "        'United States': 'United States of America',\n",
    "        'Venezuela, RB': 'Venezuela',\n",
    "        'Russian Federation': 'Russia',\n",
    "    }.get(p['pays'], p['pays'])\n",
    "    \n",
    "    if pays not in country_population:\n",
    "        country_population[pays] = {}\n",
    "        country_code[pays] = p['code']\n",
    "    \n",
    "    serie = {\n",
    "        'Population, total': 'total',\n",
    "        'Population, male': 'male',\n",
    "        'Population, female': 'female',\n",
    "        'Population ages 00-14, female (% of total)': 'F 00-14',\n",
    "        'Population ages 00-14, male (% of total)': 'M 00-14',\n",
    "        'Population ages 15-19, female (% of female population)': 'F 15-19',\n",
    "        'Population ages 15-19, male (% of male population)': 'M 15-19',\n",
    "        'Population ages 20-24, female (% of female population)': 'F 20-24',\n",
    "        'Population ages 20-24, male (% of male population)': 'M 20-24',\n",
    "        'Population ages 25-29, female (% of female population)': 'F 25-29',\n",
    "        'Population ages 25-29, male (% of male population)': 'M 25-29',\n",
    "        'Population ages 30-34, female (% of female population)': 'F 30-34',\n",
    "        'Population ages 30-34, male (% of male population)': 'M 30-34',\n",
    "        'Population ages 35-39, female (% of female population)': 'F 35-39',\n",
    "        'Population ages 35-39, male (% of male population)': 'M 35-39',\n",
    "        'Population ages 40-44, female (% of female population)': 'F 40-44',\n",
    "        'Population ages 40-44, male (% of male population)': 'M 40-44',\n",
    "        'Population ages 45-49, female (% of female population)': 'F 45-49',\n",
    "        'Population ages 45-49, male (% of male population)': 'M 45-49',\n",
    "        'Population ages 50-54, female (% of female population)': 'F 50-54',\n",
    "        'Population ages 50-54, male (% of male population)': 'M 50-54',\n",
    "        'Population ages 55-59, female (% of female population)': 'F 55-59',\n",
    "        'Population ages 55-59, male (% of male population)': 'M 55-59',\n",
    "    }[p['serie']]\n",
    "        \n",
    "    country_population[pays][serie] = p[[str(annee) for annee in annees]]"
   ]
  },
  {
   "cell_type": "markdown",
   "metadata": {},
   "source": [
    "Calcul du total de population pour chaque tranche d'age qui nous interesse"
   ]
  },
  {
   "cell_type": "code",
   "execution_count": null,
   "metadata": {},
   "outputs": [],
   "source": [
    "country_population_total = {}\n",
    "field_columns = ['all', 'M', 'F', 'F 00-14', 'M 00-14', 'F 15-29', 'M 15-29', 'F 30-44', 'M 30-44', 'F 45-59', 'M 45-59', 'F 60+', 'M 60+', '00-14', '15-29', '30-44', '45-59', '60+']\n",
    "\n",
    "country_population_total['SUM'] = {_: 0 for _ in field_columns}\n",
    "\n",
    "for pays, p_dict in country_population.items():\n",
    "    m = p_dict['male']\n",
    "    f = p_dict['female']\n",
    "    \n",
    "    try:\n",
    "        def store(country_name):\n",
    "            if pays not in country_population_total:\n",
    "                d = {}\n",
    "                d['all'] = p_dict['total'] \n",
    "                d['M'] =  m \n",
    "                d['F'] =  f\n",
    "                d['F 00-14'] = p_dict['F 00-14'] * f // 100\n",
    "                d['M 00-14'] = p_dict['M 00-14'] * m // 100\n",
    "                d['F 15-29'] = (p_dict['F 15-19']+p_dict['F 20-24']+p_dict['F 25-29']) * f // 100\n",
    "                d['M 15-29'] = (p_dict['M 15-19']+p_dict['M 20-24']+p_dict['M 25-29']) * m // 100\n",
    "                d['F 30-44'] = (p_dict['F 30-34']+p_dict['F 35-39']+p_dict['F 40-44']) * f // 100\n",
    "                d['M 30-44'] = (p_dict['M 30-34']+p_dict['M 35-39']+p_dict['M 40-44']) * m // 100\n",
    "                d['F 45-59'] = (p_dict['F 45-49']+p_dict['F 50-54']+p_dict['F 55-59']) * f // 100\n",
    "                d['M 45-59'] = (p_dict['M 45-49']+p_dict['M 50-54']+p_dict['M 55-59']) * m // 100\n",
    "\n",
    "                d['F 60+'] = d['F'] - d['F 00-14'] - d['F 15-29'] - d['F 30-44'] - d['F 45-59']\n",
    "                d['M 60+'] = d['M'] - d['M 00-14'] - d['M 15-29'] - d['M 30-44'] - d['M 45-59']\n",
    "\n",
    "                d['00-14'] = d['F 00-14'] + d['M 00-14']\n",
    "                d['15-29'] = d['F 15-29'] + d['M 15-29']\n",
    "                d['30-44'] = d['F 30-44'] + d['M 30-44']\n",
    "                d['45-59'] = d['F 45-59'] + d['M 45-59']\n",
    "                d['60+'] = d['F 60+'] + d['M 60+']\n",
    "                \n",
    "                country_population_total[country_name] = d\n",
    "            else:\n",
    "                d = country_population_total[country_name]\n",
    "\n",
    "                d['all'] += p_dict['total'] \n",
    "                d['M'] +=  m \n",
    "                d['F'] +=  f\n",
    "                d['F 00-14'] += p_dict['F 00-14'] * f // 100\n",
    "                d['M 00-14'] += p_dict['M 00-14'] * m // 100\n",
    "                d['F 15-29'] += (p_dict['F 15-19']+p_dict['F 20-24']+p_dict['F 25-29']) * f // 100\n",
    "                d['M 15-29'] += (p_dict['M 15-19']+p_dict['M 20-24']+p_dict['M 25-29']) * m // 100\n",
    "                d['F 30-44'] += (p_dict['F 30-34']+p_dict['F 35-39']+p_dict['F 40-44']) * f // 100\n",
    "                d['M 30-44'] += (p_dict['M 30-34']+p_dict['M 35-39']+p_dict['M 40-44']) * m // 100\n",
    "                d['F 45-59'] += (p_dict['F 45-49']+p_dict['F 50-54']+p_dict['F 55-59']) * f // 100\n",
    "                d['M 45-59'] += (p_dict['M 45-49']+p_dict['M 50-54']+p_dict['M 55-59']) * m // 100\n",
    "\n",
    "                d['F 60+'] += d['F'] - d['F 00-14'] - d['F 15-29'] - d['F 30-44'] - d['F 45-59']\n",
    "                d['M 60+'] += d['M'] - d['M 00-14'] - d['M 15-29'] - d['M 30-44'] - d['M 45-59']\n",
    "\n",
    "                d['00-14'] += d['F 00-14'] + d['M 00-14']\n",
    "                d['15-29'] += d['F 15-29'] + d['M 15-29']\n",
    "                d['30-44'] += d['F 30-44'] + d['M 30-44']\n",
    "                d['45-59'] += d['F 45-59'] + d['M 45-59']\n",
    "                d['60+'] += d['F 60+'] + d['M 60+']\n",
    "        store('SUM')\n",
    "        store(pays)\n",
    "        \n",
    "    except:\n",
    "        print('%s ignored' % pays)"
   ]
  },
  {
   "cell_type": "markdown",
   "metadata": {},
   "source": [
    "Création d'un dataframe pandas"
   ]
  },
  {
   "cell_type": "code",
   "execution_count": null,
   "metadata": {
    "collapsed": true
   },
   "outputs": [],
   "source": [
    "population_columns = ['pays', 'annee'] + field_columns\n",
    "def generate_data():\n",
    "    for pays, pays_d in country_population_total.items():\n",
    "        d = {'pays': pays}\n",
    "        for annee in annees:\n",
    "            d['annee'] = annee\n",
    "            for f in field_columns:\n",
    "                d[f] = pays_d[f][str(annee)]\n",
    "            yield tuple(d[_] for _ in population_columns)\n",
    "\n",
    "population_df = P.DataFrame(data=list(generate_data()), columns=population_columns)\n"
   ]
  },
  {
   "cell_type": "code",
   "execution_count": null,
   "metadata": {
    "collapsed": true
   },
   "outputs": [],
   "source": [
    "population_df.sort_values(by=['pays', 'annee'], inplace=True)\n",
    "country_info_df = P.DataFrame(data=list(country_code.items()), columns=['pays', 'code']).sort_values(by=['pays'])"
   ]
  },
  {
   "cell_type": "code",
   "execution_count": null,
   "metadata": {
    "collapsed": true
   },
   "outputs": [],
   "source": []
  },
  {
   "cell_type": "markdown",
   "metadata": {},
   "source": [
    "#### PIB"
   ]
  },
  {
   "cell_type": "markdown",
   "metadata": {},
   "source": [
    "Extraction de chaque pays (les noms des colonnes sont simplifiés)"
   ]
  },
  {
   "cell_type": "code",
   "execution_count": null,
   "metadata": {
    "collapsed": true
   },
   "outputs": [],
   "source": [
    "country_pib = {}\n",
    "\n",
    "for i, p in pib.iterrows():\n",
    "    pays ={\n",
    "        'Egypt, Arab Rep.': 'Egypt',\n",
    "        'Kyrgyz Republic': 'Kyrgyzstan',\n",
    "        'Korea, Rep.': 'South Korea',\n",
    "        'Slovak Republic': 'Slovakia',\n",
    "        'United States': 'United States of America',\n",
    "        'Venezuela, RB': 'Venezuela',\n",
    "        'Russian Federation': 'Russia',\n",
    "    }.get(p['pays'], p['pays'])\n",
    "        \n",
    "    country_pib[pays] = {_: float(p[str(_)]) if p[str(_)]!='..'  else float('nan') for _ in annees}"
   ]
  },
  {
   "cell_type": "markdown",
   "metadata": {},
   "source": [
    "Création d'un dataframe pandas"
   ]
  },
  {
   "cell_type": "code",
   "execution_count": null,
   "metadata": {
    "collapsed": true
   },
   "outputs": [],
   "source": [
    "pib_columns = ['pays', 'annee', 'PIB']\n",
    "def generate_data():\n",
    "    for pays, pays_d in country_pib.items():\n",
    "        d = {'pays': pays}\n",
    "        for annee in annees:\n",
    "            d['annee'] = annee\n",
    "            d['PIB'] = pays_d[annee]\n",
    "            yield tuple(d[_] for _ in pib_columns)\n",
    "\n",
    "pib_df = P.DataFrame(data=list(generate_data()), columns=pib_columns)\n"
   ]
  },
  {
   "cell_type": "code",
   "execution_count": null,
   "metadata": {
    "collapsed": true
   },
   "outputs": [],
   "source": [
    "pib_df.sort_values(by=['pays', 'annee'], inplace=True)"
   ]
  },
  {
   "cell_type": "code",
   "execution_count": null,
   "metadata": {},
   "outputs": [],
   "source": [
    "pib_df[pib_df.pays.isin(['United States of America'])]"
   ]
  },
  {
   "cell_type": "markdown",
   "metadata": {},
   "source": [
    "#### Join datasets"
   ]
  },
  {
   "cell_type": "code",
   "execution_count": null,
   "metadata": {},
   "outputs": [],
   "source": [
    "pays_population = set(country_info_df['pays'].unique())\n",
    "pays_incident = set(incident_df['pays'].unique())\n",
    "pays_pib = set(pib_df['pays'].unique())\n",
    "\n",
    "pays_join = list(pays_population & pays_incident)\n",
    "print('Ignored by join: ', pays_incident - pays_population)"
   ]
  },
  {
   "cell_type": "markdown",
   "metadata": {},
   "source": [
    "#### Country Info"
   ]
  },
  {
   "cell_type": "code",
   "execution_count": null,
   "metadata": {
    "collapsed": true
   },
   "outputs": [],
   "source": [
    "country_info_df['Continent'] = ''\n",
    "\n",
    "for i, c in country_info_df.iterrows():\n",
    "    n = c['pays']\n",
    "    if n in ['Argentina', 'Brazil', 'Chile', 'Colombia', 'Paraguay', 'Uruguay']:\n",
    "        c['Continent'] = 'Amérique du Sud'\n",
    "        \n",
    "    elif n in ['Canada', 'United States of America']:\n",
    "        c['Continent'] = 'Amérique du Nord'\n",
    "        \n",
    "    elif n in ['Mexico', 'Costa Rica', 'Cuba', 'El Salvador', 'Guatemala', 'Panama', 'Trinidad and Tobago', 'Venezuela']:\n",
    "        c['Continent'] = 'Amérique Centrale'\n",
    "        \n",
    "    elif n in ['Australia', 'New Zealand', 'Philippines']:\n",
    "        c['Continent'] = 'Océanie'\n",
    "        \n",
    "    elif n in ['Russia', 'Belarus', 'Bosnia and Herzegovina', 'Bulgaria', 'Croatia', 'Czech Republic', 'Estonia', 'Finland', 'Hungary', 'Latvia', 'Lithuania', 'Moldova','Poland','Romania', 'Serbia', 'Slovakia', 'Slovenia', 'Ukraine']:\n",
    "        c['Continent'] = 'Europe Est'\n",
    "        \n",
    "    elif n in ['Austria', 'Belgium', 'Cyprus', 'Denmark', 'France', 'Germany', 'Greece', 'Netherlands', 'Norway', 'Portugal', 'Spain', 'Sweden', 'Switzerland', 'United Kingdom']:\n",
    "        c['Continent'] = 'Europe Ouest'\n",
    "        \n",
    "    elif n in ['Bahrain', 'Georgia', 'Israel', 'Kuwait']:\n",
    "        c['Continent'] = 'Moyen Orient'\n",
    "        \n",
    "    elif n in ['Azerbaijan', 'Japan', 'Kazakhstan', 'Kyrgyzstan', 'Singapore', 'South Korea', 'Sri Lanka', 'Turkmenistan', 'Uzbekistan']:\n",
    "        c['Continent'] = 'Asie'\n",
    "        \n",
    "    elif n in ['Egypt', 'Mauritius']:\n",
    "        c['Continent'] = 'Afrique'"
   ]
  },
  {
   "cell_type": "markdown",
   "metadata": {},
   "source": [
    "### Saving"
   ]
  },
  {
   "cell_type": "code",
   "execution_count": null,
   "metadata": {
    "collapsed": true
   },
   "outputs": [],
   "source": [
    "incident_df[incident_df.pays.isin(pays_join)].to_csv(PATH+'../incident.csv', index=False)\n",
    "population_df[population_df.pays.isin(pays_join)].to_csv(PATH+'../population.csv', index=False)\n",
    "pib_df[pib_df.pays.isin(pays_join)].to_csv(PATH+'../pib.csv', index=False)\n",
    "country_info_df[country_info_df.pays.isin(pays_join)].to_csv(PATH+'../countryInfos.csv', index=False)"
   ]
  },
  {
   "cell_type": "code",
   "execution_count": null,
   "metadata": {
    "collapsed": true
   },
   "outputs": [],
   "source": []
  }
 ],
 "metadata": {
  "kernelspec": {
   "display_name": "Python 3",
   "language": "python",
   "name": "python3"
  },
  "language_info": {
   "codemirror_mode": {
    "name": "ipython",
    "version": 3
   },
   "file_extension": ".py",
   "mimetype": "text/x-python",
   "name": "python",
   "nbconvert_exporter": "python",
   "pygments_lexer": "ipython3",
   "version": "3.6.3"
  }
 },
 "nbformat": 4,
 "nbformat_minor": 2
}
